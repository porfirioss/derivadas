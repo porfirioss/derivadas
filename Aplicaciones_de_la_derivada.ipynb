{
  "nbformat": 4,
  "nbformat_minor": 0,
  "metadata": {
    "colab": {
      "provenance": [],
      "authorship_tag": "ABX9TyOfmJq2Lis8RHNeK90C34nO",
      "include_colab_link": true
    },
    "kernelspec": {
      "name": "python3",
      "display_name": "Python 3"
    },
    "language_info": {
      "name": "python"
    },
    "widgets": {
      "application/vnd.jupyter.widget-state+json": {
        "0f8d804e9c95443da2812c67c86c0810": {
          "model_module": "@jupyter-widgets/controls",
          "model_name": "VBoxModel",
          "model_module_version": "1.5.0",
          "state": {
            "_dom_classes": [
              "widget-interact"
            ],
            "_model_module": "@jupyter-widgets/controls",
            "_model_module_version": "1.5.0",
            "_model_name": "VBoxModel",
            "_view_count": null,
            "_view_module": "@jupyter-widgets/controls",
            "_view_module_version": "1.5.0",
            "_view_name": "VBoxView",
            "box_style": "",
            "children": [
              "IPY_MODEL_059f18ccb7d8406a875df4b8266abbd6",
              "IPY_MODEL_d32f3a38276e4a6db8de4679f613d5a7",
              "IPY_MODEL_02f69efb98f6474da48b92695cf2da58"
            ],
            "layout": "IPY_MODEL_534d72b1f8434fdbaf6dcc8d249e054d"
          }
        },
        "059f18ccb7d8406a875df4b8266abbd6": {
          "model_module": "@jupyter-widgets/controls",
          "model_name": "FloatSliderModel",
          "model_module_version": "1.5.0",
          "state": {
            "_dom_classes": [],
            "_model_module": "@jupyter-widgets/controls",
            "_model_module_version": "1.5.0",
            "_model_name": "FloatSliderModel",
            "_view_count": null,
            "_view_module": "@jupyter-widgets/controls",
            "_view_module_version": "1.5.0",
            "_view_name": "FloatSliderView",
            "continuous_update": true,
            "description": "a",
            "description_tooltip": null,
            "disabled": false,
            "layout": "IPY_MODEL_1f5743b2c50149c29757e5dab9daf097",
            "max": 2.5,
            "min": -2,
            "orientation": "horizontal",
            "readout": true,
            "readout_format": ".2f",
            "step": 0.01,
            "style": "IPY_MODEL_645de23f95f749718fa2c3b693f63e10",
            "value": 0.25
          }
        },
        "d32f3a38276e4a6db8de4679f613d5a7": {
          "model_module": "@jupyter-widgets/controls",
          "model_name": "FloatSliderModel",
          "model_module_version": "1.5.0",
          "state": {
            "_dom_classes": [],
            "_model_module": "@jupyter-widgets/controls",
            "_model_module_version": "1.5.0",
            "_model_name": "FloatSliderModel",
            "_view_count": null,
            "_view_module": "@jupyter-widgets/controls",
            "_view_module_version": "1.5.0",
            "_view_name": "FloatSliderView",
            "continuous_update": true,
            "description": "b",
            "description_tooltip": null,
            "disabled": false,
            "layout": "IPY_MODEL_1840bf04ba9248218fde763b70229b63",
            "max": 2.5,
            "min": -2,
            "orientation": "horizontal",
            "readout": true,
            "readout_format": ".2f",
            "step": 0.01,
            "style": "IPY_MODEL_d0481a790e754047ba7e9ffe77481ab7",
            "value": 2.05
          }
        },
        "02f69efb98f6474da48b92695cf2da58": {
          "model_module": "@jupyter-widgets/output",
          "model_name": "OutputModel",
          "model_module_version": "1.0.0",
          "state": {
            "_dom_classes": [],
            "_model_module": "@jupyter-widgets/output",
            "_model_module_version": "1.0.0",
            "_model_name": "OutputModel",
            "_view_count": null,
            "_view_module": "@jupyter-widgets/output",
            "_view_module_version": "1.0.0",
            "_view_name": "OutputView",
            "layout": "IPY_MODEL_451960b9df524d1ab0671a60ee4fdee5",
            "msg_id": "",
            "outputs": [
              {
                "output_type": "display_data",
                "data": {
                  "text/plain": "<Figure size 600x400 with 1 Axes>",
                  "image/png": "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\n"
                },
                "metadata": {}
              }
            ]
          }
        },
        "534d72b1f8434fdbaf6dcc8d249e054d": {
          "model_module": "@jupyter-widgets/base",
          "model_name": "LayoutModel",
          "model_module_version": "1.2.0",
          "state": {
            "_model_module": "@jupyter-widgets/base",
            "_model_module_version": "1.2.0",
            "_model_name": "LayoutModel",
            "_view_count": null,
            "_view_module": "@jupyter-widgets/base",
            "_view_module_version": "1.2.0",
            "_view_name": "LayoutView",
            "align_content": null,
            "align_items": null,
            "align_self": null,
            "border": null,
            "bottom": null,
            "display": null,
            "flex": null,
            "flex_flow": null,
            "grid_area": null,
            "grid_auto_columns": null,
            "grid_auto_flow": null,
            "grid_auto_rows": null,
            "grid_column": null,
            "grid_gap": null,
            "grid_row": null,
            "grid_template_areas": null,
            "grid_template_columns": null,
            "grid_template_rows": null,
            "height": null,
            "justify_content": null,
            "justify_items": null,
            "left": null,
            "margin": null,
            "max_height": null,
            "max_width": null,
            "min_height": null,
            "min_width": null,
            "object_fit": null,
            "object_position": null,
            "order": null,
            "overflow": null,
            "overflow_x": null,
            "overflow_y": null,
            "padding": null,
            "right": null,
            "top": null,
            "visibility": null,
            "width": null
          }
        },
        "1f5743b2c50149c29757e5dab9daf097": {
          "model_module": "@jupyter-widgets/base",
          "model_name": "LayoutModel",
          "model_module_version": "1.2.0",
          "state": {
            "_model_module": "@jupyter-widgets/base",
            "_model_module_version": "1.2.0",
            "_model_name": "LayoutModel",
            "_view_count": null,
            "_view_module": "@jupyter-widgets/base",
            "_view_module_version": "1.2.0",
            "_view_name": "LayoutView",
            "align_content": null,
            "align_items": null,
            "align_self": null,
            "border": null,
            "bottom": null,
            "display": null,
            "flex": null,
            "flex_flow": null,
            "grid_area": null,
            "grid_auto_columns": null,
            "grid_auto_flow": null,
            "grid_auto_rows": null,
            "grid_column": null,
            "grid_gap": null,
            "grid_row": null,
            "grid_template_areas": null,
            "grid_template_columns": null,
            "grid_template_rows": null,
            "height": null,
            "justify_content": null,
            "justify_items": null,
            "left": null,
            "margin": null,
            "max_height": null,
            "max_width": null,
            "min_height": null,
            "min_width": null,
            "object_fit": null,
            "object_position": null,
            "order": null,
            "overflow": null,
            "overflow_x": null,
            "overflow_y": null,
            "padding": null,
            "right": null,
            "top": null,
            "visibility": null,
            "width": null
          }
        },
        "645de23f95f749718fa2c3b693f63e10": {
          "model_module": "@jupyter-widgets/controls",
          "model_name": "SliderStyleModel",
          "model_module_version": "1.5.0",
          "state": {
            "_model_module": "@jupyter-widgets/controls",
            "_model_module_version": "1.5.0",
            "_model_name": "SliderStyleModel",
            "_view_count": null,
            "_view_module": "@jupyter-widgets/base",
            "_view_module_version": "1.2.0",
            "_view_name": "StyleView",
            "description_width": "",
            "handle_color": null
          }
        },
        "1840bf04ba9248218fde763b70229b63": {
          "model_module": "@jupyter-widgets/base",
          "model_name": "LayoutModel",
          "model_module_version": "1.2.0",
          "state": {
            "_model_module": "@jupyter-widgets/base",
            "_model_module_version": "1.2.0",
            "_model_name": "LayoutModel",
            "_view_count": null,
            "_view_module": "@jupyter-widgets/base",
            "_view_module_version": "1.2.0",
            "_view_name": "LayoutView",
            "align_content": null,
            "align_items": null,
            "align_self": null,
            "border": null,
            "bottom": null,
            "display": null,
            "flex": null,
            "flex_flow": null,
            "grid_area": null,
            "grid_auto_columns": null,
            "grid_auto_flow": null,
            "grid_auto_rows": null,
            "grid_column": null,
            "grid_gap": null,
            "grid_row": null,
            "grid_template_areas": null,
            "grid_template_columns": null,
            "grid_template_rows": null,
            "height": null,
            "justify_content": null,
            "justify_items": null,
            "left": null,
            "margin": null,
            "max_height": null,
            "max_width": null,
            "min_height": null,
            "min_width": null,
            "object_fit": null,
            "object_position": null,
            "order": null,
            "overflow": null,
            "overflow_x": null,
            "overflow_y": null,
            "padding": null,
            "right": null,
            "top": null,
            "visibility": null,
            "width": null
          }
        },
        "d0481a790e754047ba7e9ffe77481ab7": {
          "model_module": "@jupyter-widgets/controls",
          "model_name": "SliderStyleModel",
          "model_module_version": "1.5.0",
          "state": {
            "_model_module": "@jupyter-widgets/controls",
            "_model_module_version": "1.5.0",
            "_model_name": "SliderStyleModel",
            "_view_count": null,
            "_view_module": "@jupyter-widgets/base",
            "_view_module_version": "1.2.0",
            "_view_name": "StyleView",
            "description_width": "",
            "handle_color": null
          }
        },
        "451960b9df524d1ab0671a60ee4fdee5": {
          "model_module": "@jupyter-widgets/base",
          "model_name": "LayoutModel",
          "model_module_version": "1.2.0",
          "state": {
            "_model_module": "@jupyter-widgets/base",
            "_model_module_version": "1.2.0",
            "_model_name": "LayoutModel",
            "_view_count": null,
            "_view_module": "@jupyter-widgets/base",
            "_view_module_version": "1.2.0",
            "_view_name": "LayoutView",
            "align_content": null,
            "align_items": null,
            "align_self": null,
            "border": null,
            "bottom": null,
            "display": null,
            "flex": null,
            "flex_flow": null,
            "grid_area": null,
            "grid_auto_columns": null,
            "grid_auto_flow": null,
            "grid_auto_rows": null,
            "grid_column": null,
            "grid_gap": null,
            "grid_row": null,
            "grid_template_areas": null,
            "grid_template_columns": null,
            "grid_template_rows": null,
            "height": null,
            "justify_content": null,
            "justify_items": null,
            "left": null,
            "margin": null,
            "max_height": null,
            "max_width": null,
            "min_height": null,
            "min_width": null,
            "object_fit": null,
            "object_position": null,
            "order": null,
            "overflow": null,
            "overflow_x": null,
            "overflow_y": null,
            "padding": null,
            "right": null,
            "top": null,
            "visibility": null,
            "width": null
          }
        }
      }
    }
  },
  "cells": [
    {
      "cell_type": "markdown",
      "metadata": {
        "id": "view-in-github",
        "colab_type": "text"
      },
      "source": [
        "<a href=\"https://colab.research.google.com/github/porfirioss/derivadas/blob/main/Aplicaciones_de_la_derivada.ipynb\" target=\"_parent\"><img src=\"https://colab.research.google.com/assets/colab-badge.svg\" alt=\"Open In Colab\"/></a>"
      ]
    },
    {
      "cell_type": "markdown",
      "source": [
        "#Aplicaciones de la derivada\n",
        "##Dr. Porfirio Suñagua S."
      ],
      "metadata": {
        "id": "8aBKqLqW2lQB"
      }
    },
    {
      "cell_type": "markdown",
      "source": [
        "Manual de LaTeX\n",
        "https://tecdigital.tec.ac.cr/servicios/revistamatematica/Libros/LaTeX/MoraW_BorbonA_LibroLaTeX.pdf"
      ],
      "metadata": {
        "id": "YCfBvPNi7kJa"
      }
    },
    {
      "cell_type": "markdown",
      "source": [
        "Teorema del valor intermedio\n",
        "\n",
        "Para $f:[a,b]\\to\\mathbb{R}$ continua y supongamos que $f(a)<f(b)$, para cualquier $f(a)<d<f(b)$, existe un $c\\in ]a,b[$ tal que $$f(c)=d$$\n",
        "\n",
        "En particular, cuando $f(a)\\cdot f(b)<0$, entonces, la ecuación $f(x)=0$ tiene solución en $a<x<b$"
      ],
      "metadata": {
        "id": "1gB27jZz2v6a"
      }
    },
    {
      "cell_type": "code",
      "source": [
        "import sympy as sp\n",
        "import numpy as np\n",
        "import matplotlib.pyplot as plt\n",
        "from sympy.plotting import plot\n",
        "x = sp.Symbol('x')\n",
        "f = x**3-x**2 -3*x + 1\n",
        "g = 2\n",
        "fx = sp.lambdify(x, f, 'numpy')\n",
        "eq = sp.Eq(f,g)\n",
        "sol = sp.solve(eq,x)\n",
        "print(sol)\n",
        "print([fx(sp.N(sol[i])) for i in range(len(sol))])\n",
        "print(fx(np.sqrt(2)))\n",
        "plot(f,g,(x,-2,2.5))\n"
      ],
      "metadata": {
        "colab": {
          "base_uri": "https://localhost:8080/",
          "height": 558
        },
        "id": "BPmquhgx4daY",
        "outputId": "b5e0f8b0-5ce7-4ae4-cd23-6a756c594d56"
      },
      "execution_count": 14,
      "outputs": [
        {
          "output_type": "stream",
          "name": "stdout",
          "text": [
            "[-1, 1 - sqrt(2), 1 + sqrt(2)]\n",
            "[2.00000000000000, 2.00000000000000, 2.00000000000000]\n",
            "-2.4142135623730954\n"
          ]
        },
        {
          "output_type": "display_data",
          "data": {
            "text/plain": [
              "<Figure size 640x480 with 1 Axes>"
            ],
            "image/png": "[encoded data removed]"
          },
          "metadata": {}
        },
        {
          "output_type": "execute_result",
          "data": {
            "text/plain": [
              "<sympy.plotting.backends.matplotlibbackend.matplotlib.MatplotlibBackend at 0x7f639774b230>"
            ]
          },
          "metadata": {},
          "execution_count": 14
        }
      ]
    },
    {
      "cell_type": "code",
      "source": [
        "def Biseccion(f,a,b,tol):\n",
        "  if f(a)*f(b)>0:\n",
        "    print(\"No hay raiz en el intervalo\")\n",
        "    return None\n",
        "  m = (a+b)/2\n",
        "  if abs(f(m))<tol:\n",
        "    return m\n",
        "  if f(a)*f(m)<0:\n",
        "    return Biseccion(f,a,m,tol)\n",
        "  else:\n",
        "      return Biseccion(f,m,b,tol)"
      ],
      "metadata": {
        "id": "ItlUw6pFBRUR"
      },
      "execution_count": 16,
      "outputs": []
    },
    {
      "cell_type": "code",
      "source": [
        "f = lambda x: x**3-x**2 -3*x + 1\n",
        "print(Biseccion(fx,-2,2.5,0.0001))"
      ],
      "metadata": {
        "colab": {
          "base_uri": "https://localhost:8080/"
        },
        "id": "7Z6H7FqjB_lw",
        "outputId": "a43a5425-3f0b-4963-9a56-4bb198a670c6"
      },
      "execution_count": 17,
      "outputs": [
        {
          "output_type": "stream",
          "name": "stdout",
          "text": [
            "-1.4812049865722656\n"
          ]
        }
      ]
    },
    {
      "cell_type": "code",
      "source": [
        "def Newton(f,df,x0,tol):\n",
        "  xn = x0\n",
        "  for n in range(0,100):\n",
        "    fxn = f(xn)\n",
        "    if abs(fxn)<tol:\n",
        "      print(\"Raiz encontrada\")\n",
        "      return xn\n",
        "    dfxn = df(xn)\n",
        "    if dfxn==0:\n",
        "      print(\"División por cero\")\n",
        "      return None\n",
        "    xn = xn - fxn/dfxn\n",
        "  print(\"No se encontró la raiz en 100 iteraciones\")\n",
        "  return None"
      ],
      "metadata": {
        "id": "K9cU4onHCeOp"
      },
      "execution_count": 19,
      "outputs": []
    },
    {
      "cell_type": "code",
      "source": [
        "f = lambda x: x**3-x**2 -3*x + 1\n",
        "df = lambda x: 3*x**2-2*x-3\n",
        "print(Newton(f,df,-2,0.0001))"
      ],
      "metadata": {
        "colab": {
          "base_uri": "https://localhost:8080/"
        },
        "id": "hnkc_zLSDNdC",
        "outputId": "89c01057-62e7-43f6-e30f-86e382dfaed1"
      },
      "execution_count": 20,
      "outputs": [
        {
          "output_type": "stream",
          "name": "stdout",
          "text": [
            "Raiz encontrada\n",
            "-1.481194318866431\n"
          ]
        }
      ]
    },
    {
      "cell_type": "code",
      "source": [
        "%%capture\n",
        "%matplotlib inline\n",
        "\n",
        "import numpy as np\n",
        "import sympy as sp\n",
        "import matplotlib.pyplot as plt\n",
        "from IPython.display import display, Latex, clear_output\n",
        "import ipywidgets as widgets\n",
        "\n",
        "def pendiente(a,b):\n",
        "  if b==a:\n",
        "    m=fdx(a)\n",
        "  else:\n",
        "    m = (fx(b)-fx(a))/(b-a)\n",
        "  return m\n",
        "\n",
        "def puntoTMV(f,a,b):\n",
        "  m = pendiente(a,b)\n",
        "  Df = sp.diff(f,x)\n",
        "  xtvm = sp.solve(sp.Eq(Df,m),x)\n",
        "  return xtvm[0]\n",
        "\n",
        "fig, ax = plt.subplots(nrows=1, ncols=1)\n",
        "fig.set_figwidth(6)\n",
        "fig.set_figheight(4)\n",
        "ax.grid(True,alpha=0.3)\n",
        "x = sp.Symbol('x')\n",
        "f = x**3-x**2 -3*x + 1\n",
        "fx = sp.lambdify(x, f, 'numpy')\n",
        "fd = sp.diff(f, x)\n",
        "fdx = sp.lambdify(x, fd, 'numpy')\n",
        "t = np.linspace(-2, 2.5)\n",
        "ax.plot(t, fx(t),color='blue')\n",
        "yx = fdx(1)*(x-1)+fx(1)\n",
        "yt = sp.lambdify(x, yx, 'numpy')\n",
        "line, = ax.plot(t, yt(t),color='green')\n",
        "punto, = ax.plot(1,fx(1),'o',color='green',zorder=5)\n",
        "#m = pendiente(1,1)\n",
        "\n",
        "ptvm = puntoTMV(f,1,2)\n",
        "puntotvm, = ax.plot(1,fx(1),'o',color='orange',zorder=5)\n",
        "texto = ax.text(1,fx(1),rf\"$\\frac{{dy}}{{dx}}$={sp.latex(ptvm)}\",color=\"green\")\n",
        "\n",
        "ax.set_xlabel('x')\n",
        "ax.set_ylabel('y')\n",
        "ax.spines['left'].set_position('center')\n",
        "ax.spines['right'].set_position('center')\n",
        "ax.spines['top'].set_position('center')\n",
        "ax.spines['bottom'].set_position('center')\n",
        "\n",
        "def rectaSecante(a,b,t):\n",
        "  m = pendiente(a,b)\n",
        "  yb = m*(x-a)+fx(a)\n",
        "  ybt = sp.lambdify(x, yb, 'numpy')\n",
        "  ybtt = ybt(t)\n",
        "  return ybtt\n",
        "\n",
        "ybtt = rectaSecante(1,2,t)\n",
        "line2, = ax.plot(t, ybtt,color='red')\n",
        "punto2, = ax.plot(2,fx(2),'o',color='red',zorder=5)\n",
        "m = pendiente(1,2)\n",
        "texto2 = ax.text(2,fx(2),rf\"$\\frac{{\\Delta y}}{{\\Delta x}}=${sp.latex(m)}\",color=\"red\")\n",
        "# opacidad para las etiquetas\n",
        "for tick_label in ax.get_xticklabels() + ax.get_yticklabels():\n",
        "    tick_label.set_alpha(0.3)\n",
        "\n",
        "def grafica(a,b):\n",
        "    ptvm=puntoTMV(f,a,b)\n",
        "    line.set_ydata(fdx(ptvm)*(t-ptvm)+fx(ptvm))\n",
        "    punto.set_xdata([a])\n",
        "    punto.set_ydata([fx(a)])\n",
        "    puntotvm.set_xdata([ptvm])\n",
        "    puntotvm.set_ydata([fx(ptvm)])\n",
        "    m = pendiente(ptvm,ptvm)\n",
        "    texto.set_x(ptvm)\n",
        "    texto.set_y(fx(ptvm)+0.5)\n",
        "    texto.set_text(rf\"$\\frac{{dy}}{{dx}}$={sp.latex(m)}\")\n",
        "    ybtt = rectaSecante(a,b,t)\n",
        "    line2.set_ydata(ybtt)\n",
        "    punto2.set_xdata([b])\n",
        "    punto2.set_ydata([fx(b)])\n",
        "    m = pendiente(a,b)\n",
        "    texto2.set_x(b+0.25)\n",
        "    texto2.set_y(fx(b)-0.5)\n",
        "    texto2.set_text(rf\"$\\frac{{\\Delta y}}{{\\Delta x}}$={sp.latex(m)}\")\n",
        "    #ax.relim()\n",
        "    ax.autoscale()\n",
        "    display(fig)\n",
        "    plt.close(fig) #clear_output(wait=True)\n"
      ],
      "metadata": {
        "id": "mQJoUUl-r7Ye"
      },
      "execution_count": null,
      "outputs": []
    },
    {
      "cell_type": "markdown",
      "source": [
        "#Teorema del valor medio"
      ],
      "metadata": {
        "id": "Eaym0LlpDow3"
      }
    },
    {
      "cell_type": "code",
      "source": [
        "#ejecuta grafico intercativo\n",
        "widgets.interact(grafica, a=(-2,2.5,0.01),b=(-2.0,2.5,0.01))"
      ],
      "metadata": {
        "colab": {
          "base_uri": "https://localhost:8080/",
          "height": 495,
          "referenced_widgets": [
            "0f8d804e9c95443da2812c67c86c0810",
            "059f18ccb7d8406a875df4b8266abbd6",
            "d32f3a38276e4a6db8de4679f613d5a7",
            "02f69efb98f6474da48b92695cf2da58",
            "534d72b1f8434fdbaf6dcc8d249e054d",
            "1f5743b2c50149c29757e5dab9daf097",
            "645de23f95f749718fa2c3b693f63e10",
            "1840bf04ba9248218fde763b70229b63",
            "d0481a790e754047ba7e9ffe77481ab7",
            "451960b9df524d1ab0671a60ee4fdee5"
          ]
        },
        "id": "7JnFI7xnu8Kp",
        "outputId": "c0115e3b-4eef-45c2-9c61-7a62bff725fc"
      },
      "execution_count": null,
      "outputs": [
        {
          "output_type": "display_data",
          "data": {
            "text/plain": [
              "interactive(children=(FloatSlider(value=0.25, description='a', max=2.5, min=-2.0, step=0.01), FloatSlider(valu…"
            ],
            "application/vnd.jupyter.widget-view+json": {
              "version_major": 2,
              "version_minor": 0,
              "model_id": "0f8d804e9c95443da2812c67c86c0810"
            }
          },
          "metadata": {}
        },
        {
          "output_type": "execute_result",
          "data": {
            "text/plain": [
              "<function __main__.grafica(a, b)>"
            ],
            "text/html": [
              "<div style=\"max-width:800px; border: 1px solid var(--colab-border-color);\"><style>\n",
              "      pre.function-repr-contents {\n",
              "        overflow-x: auto;\n",
              "        padding: 8px 12px;\n",
              "        max-height: 500px;\n",
              "      }\n",
              "\n",
              "      pre.function-repr-contents.function-repr-contents-collapsed {\n",
              "        cursor: pointer;\n",
              "        max-height: 100px;\n",
              "      }\n",
              "    </style>\n",
              "    <pre style=\"white-space: initial; background:\n",
              "         var(--colab-secondary-surface-color); padding: 8px 12px;\n",
              "         border-bottom: 1px solid var(--colab-border-color);\"><b>grafica</b><br/>def grafica(a, b)</pre><pre class=\"function-repr-contents function-repr-contents-collapsed\" style=\"\"><a class=\"filepath\" style=\"display:none\" href=\"#\">/tmp/ipython-input-3513238907.py</a>&lt;no docstring&gt;</pre></div>"
            ]
          },
          "metadata": {},
          "execution_count": 19
        }
      ]
    },
    {
      "cell_type": "markdown",
      "source": [
        "#Máximos y mínimos"
      ],
      "metadata": {
        "id": "17Th08HaDtgv"
      }
    },
    {
      "cell_type": "code",
      "execution_count": 15,
      "metadata": {
        "id": "gHpY61q0CjHe",
        "colab": {
          "base_uri": "https://localhost:8080/"
        },
        "outputId": "68624761-5b8c-4a98-e7f0-8580b0048256"
      },
      "outputs": [
        {
          "output_type": "stream",
          "name": "stdout",
          "text": [
            "Función: f(x) en el intervalo [-2.0, 2.5]\n",
            "\n",
            "Mínimo Global:\n",
            "  Valor de x: 1.00000\n",
            "  Valor de f(x): 0.00000\n",
            "\n",
            "Máximo Global:\n",
            "  Valor de x: -1.00000\n",
            "  Valor de f(x): 4.00000\n"
          ]
        }
      ],
      "source": [
        "#Utilizando función interna de la libreria de optimización\n",
        "import numpy as np\n",
        "from scipy.optimize import minimize_scalar\n",
        "\n",
        "# 1. Definir la función y el intervalo\n",
        "def f(x):\n",
        "    return x**3 - 3*x + 2\n",
        "\n",
        "# Función auxiliar para encontrar el MÁXIMO (minimiza -f(x))\n",
        "def f_neg(x):\n",
        "    return -f(x)\n",
        "\n",
        "# Definir el intervalo [a, b]\n",
        "a = -2.0\n",
        "b = 2.5\n",
        "intervalo = (a, b)\n",
        "\n",
        "# Hallar el MÍNIMO en el intervalo [a, b]\n",
        "res_min = minimize_scalar(f, bounds=intervalo, method='bounded')\n",
        "\n",
        "# Hallar el MÁXIMO en el intervalo [a, b]\n",
        "res_max = minimize_scalar(f_neg, bounds=intervalo, method='bounded')\n",
        "\n",
        "# Mostrar los resultados\n",
        "print(f\"Función: f(x) en el intervalo [{a}, {b}]\\n\")\n",
        "\n",
        "# Resultado del MÍNIMO\n",
        "x_min = res_min.x\n",
        "f_val_min = res_min.fun\n",
        "print(f\"Mínimo Global:\")\n",
        "print(f\"  Valor de x: {x_min:.5f}\")\n",
        "print(f\"  Valor de f(x): {f_val_min:.5f}\")\n",
        "\n",
        "# Resultado del MÁXIMO (el valor de res_max.fun es -Máximo)\n",
        "x_max = res_max.x\n",
        "f_val_max = -res_max.fun  # Se niega el resultado para obtener el valor de f(x) original\n",
        "print(f\"\\nMáximo Global:\")\n",
        "print(f\"  Valor de x: {x_max:.5f}\")\n",
        "print(f\"  Valor de f(x): {f_val_max:.5f}\")"
      ]
    }
  ]
}